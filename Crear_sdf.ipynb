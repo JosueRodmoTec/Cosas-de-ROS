{
 "cells": [
  {
   "cell_type": "markdown",
   "metadata": {},
   "source": [
    "Primero abre la carperta hasta donde esta el URDF y pon esto"
   ]
  },
  {
   "cell_type": "markdown",
   "metadata": {},
   "source": [
    "gz sdf -p Ensamblaje.SLDASM.urdf  > model.sdf"
   ]
  },
  {
   "attachments": {},
   "cell_type": "markdown",
   "metadata": {},
   "source": [
    "Luego cambia el path, pon el path completo hasta la carpeta mesh en todas las rutas del archivo que acabas de crear"
   ]
  },
  {
   "cell_type": "markdown",
   "metadata": {},
   "source": [
    "Despues crear un archivo llamado model.config y copia esto:"
   ]
  },
  {
   "attachments": {},
   "cell_type": "markdown",
   "metadata": {},
   "source": [
    "<?xml version=\"1.0\" ?>\n",
    "<model>\n",
    "    <name>ensamble</name>\n",
    "    <version>1.0</version>\n",
    "    <sdf version=\"1.7\">model.sdf</sdf>\n",
    "    <author>\n",
    "        <name></name>\n",
    "        <email></email>\n",
    "    </author>\n",
    "    <description></description>\n",
    "</model>"
   ]
  },
  {
   "attachments": {},
   "cell_type": "markdown",
   "metadata": {},
   "source": [
    "Por último, en Gazebo inserta la ruta hasta el sdf"
   ]
  }
 ],
 "metadata": {
  "language_info": {
   "name": "python"
  },
  "orig_nbformat": 4
 },
 "nbformat": 4,
 "nbformat_minor": 2
}
